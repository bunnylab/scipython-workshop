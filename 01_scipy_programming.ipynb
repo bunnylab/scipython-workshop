{
 "cells": [
  {
   "cell_type": "markdown",
   "metadata": {},
   "source": [
    "# Programming in Python #\n",
    "\n",
    "Now that you have some familiarity with the environment and tools we'll be working with its time to get to work and learn how to program in Python. I'm going to assume you have some basic familiarity with programming principles such as variables, conditionals and looping. I'll show you how to do these things in Python but if you do not know what a variable is I suggest you stop, spend some time reading up on the basics and then come back to this.\n",
    "\n",
    "## Python ##\n",
    "\n",
    "Python is a general purpose, high-level, interpreted, dynamically typed multi-paradigm programming language. It was developed by Guido Van Rossum in 1989 and emphasizes simple readable code and rapid development.\n",
    "\n",
    "- General Purpose: Python is designed to be used for a variety of problems\n",
    "- High-level: Python uses high-level abstractions such as variables and functions and deals with things like memory management for you\n",
    "- Interpreted: Python does not generally use a compiler which converts code from a programming language into machine code to be run by a computer directly. Python code is sent to a program called an interpreter that converts it on the fly for any supported platform. This sacrifices speed for flexibility.\n",
    "- Dynamically Typed: Variables in python do not have a type that you specify in the code (int, string etc.) the interpreter will infer the type of a variable when the code is run.\n",
    "- Multi-Paradigm: Programming paradigms are ways of programming such as object-oriented, functional or procedural which use different abstractions for representing data and manipulations of data. Python contains code for most of these abstractions and so can be used to write programs in any of these styles or in a mix of them."
   ]
  },
  {
   "cell_type": "markdown",
   "metadata": {},
   "source": [
    "## Types and data structures ##\n",
    "\n",
    "### Types ###\n",
    "\n",
    "We're going to go over the built-in Python types as well as the numeric types introduced in Numpy which you will also be using heavily. Python is dynamically typed so any given variable may have any type assigned or reassigned to it. This gives a lot of flexibility but your main source of errors when dealing with data WILL be unexpected type assignments.\n",
    "\n",
    "### Built-In Numeric Types ###\n",
    "\n",
    "Python has four distinct numeric types built in to the standard library. These are integers, long integers, floating point numbers and complex numbers. Integers will hold natural numbers (no decimals) with up to 32 bits of precision, long integers are the same thing but can hold natural numbers of arbitrary size. Floating point numbers will hold decimal numbers of arbitrary size and complex numbers will hold any of the above and include an imaginary component."
   ]
  },
  {
   "cell_type": "code",
   "execution_count": 1,
   "metadata": {
    "collapsed": false
   },
   "outputs": [
    {
     "name": "stdout",
     "output_type": "stream",
     "text": [
      "Types are <type 'int'> <type 'long'> <type 'float'> <type 'complex'>\n"
     ]
    }
   ],
   "source": [
    "# Declaring Numeric Types\n",
    "\n",
    "x = 42    #Simple Integer\n",
    "y = 42L   #Long Integer\n",
    "z = 42.0  #Floating Point\n",
    "a = 42J   #Complex Number\n",
    "\n",
    "print 'Types are {} {} {} {}'.format( type(x),type(y),type(z),type(a) )"
   ]
  },
  {
   "cell_type": "markdown",
   "metadata": {},
   "source": [
    "### Numpy Numeric Types ###\n",
    "\n",
    "For performance reasons numpy uses its own numeric types as well as its own container types.  Pythons generic types and containers offer a lot of flexibility in terms of dynamic allocation and mixed type operatons, but that flexibility comes at a cost.  The python interpreter has to do a lot of checking on the back end to determine what types are being used, their size in memory and then picking a valid way to operate on them.  This prevents python from doing fast numeric operations, particularly matrix and vector operations with its built in types.  Enter Numpy.\n",
    "\n",
    "Numpy is a python module that provides fixed-size numeric types and homogenous numeric containers so we can skip the checking and do blazing fast numeric and matrix operations in python. Numpy types and containers are the basis for almost all scientific compuation in python so it is important for us to understand the difference and when to use them. Numpy types are fixed length, you the programmer must decide the appropriate size and type for your needs and protect yourself from issues such as overflows, lost precision in floating point operations and etc. \n",
    "\n",
    "#### Signed Integers ####\n",
    "Integer type of 8,16,32 or 64 bits. Can be negative."
   ]
  },
  {
   "cell_type": "code",
   "execution_count": 3,
   "metadata": {
    "collapsed": false
   },
   "outputs": [
    {
     "name": "stdout",
     "output_type": "stream",
     "text": [
      "Signed Integers\n",
      "a=1 b=2 c=3 d=4\n",
      "\n"
     ]
    }
   ],
   "source": [
    "import numpy as np\n",
    "\n",
    "# Numpy signed integer types\n",
    "\n",
    "a = np.int8(1)\n",
    "b = np.int16(2)\n",
    "c = np.int32(3)\n",
    "d = np.int64(4)\n",
    "\n",
    "print 'Signed Integers'\n",
    "print 'a={} b={} c={} d={}\\n'.format(a,b,c,d)\n"
   ]
  },
  {
   "cell_type": "markdown",
   "metadata": {},
   "source": [
    "#### Unsigned Integers ####\n",
    "Integer type of 8,16,32 or 64 bits. Cannot be negative, represents greater range of positive numbers."
   ]
  },
  {
   "cell_type": "code",
   "execution_count": 4,
   "metadata": {
    "collapsed": false
   },
   "outputs": [
    {
     "name": "stdout",
     "output_type": "stream",
     "text": [
      "Unsigned Integers\n",
      "a=1 b=2 c=3 d=4\n",
      "\n"
     ]
    }
   ],
   "source": [
    "# Numpy unsigned integer types\n",
    "a = np.uint8(1)\n",
    "b = np.uint16(2)\n",
    "c = np.uint32(3)\n",
    "d = np.uint64(4)\n",
    "\n",
    "print 'Unsigned Integers'\n",
    "print 'a={} b={} c={} d={}\\n'.format(a,b,c,d)"
   ]
  },
  {
   "cell_type": "markdown",
   "metadata": {},
   "source": [
    "#### Floating Point ####\n",
    "Floating point numbers of 16, 32 or 64 bits. Represent decimal type numbers, always signed."
   ]
  },
  {
   "cell_type": "code",
   "execution_count": 5,
   "metadata": {
    "collapsed": false
   },
   "outputs": [
    {
     "name": "stdout",
     "output_type": "stream",
     "text": [
      "Floating Point\n",
      "a=1.0 b=2.0 c=3.0\n",
      "\n"
     ]
    }
   ],
   "source": [
    "# Numpy floating point types\n",
    "a = np.float16(1)\n",
    "b = np.float32(2)\n",
    "c = np.float64(3)\n",
    "\n",
    "print 'Floating Point'\n",
    "print 'a={} b={} c={}\\n'.format(a,b,c)"
   ]
  },
  {
   "cell_type": "markdown",
   "metadata": {},
   "source": [
    "#### Complex Numbers ####\n",
    "Complex numbers of 64 or 128 bits. Represent numbers with an imaginary component."
   ]
  },
  {
   "cell_type": "code",
   "execution_count": 6,
   "metadata": {
    "collapsed": false
   },
   "outputs": [
    {
     "name": "stdout",
     "output_type": "stream",
     "text": [
      "Complex Numbers\n",
      "a=(125+32j) b=(125+32j)\n",
      "\n"
     ]
    }
   ],
   "source": [
    "# Numpy complex types\n",
    "a = np.complex64(125 + 32j)\n",
    "b = np.complex128(125 + 32j)\n",
    "\n",
    "print 'Complex Numbers'\n",
    "print 'a={} b={}\\n'.format(a,b)"
   ]
  },
  {
   "cell_type": "markdown",
   "metadata": {},
   "source": [
    "As an exercise figure out what is going on with the following variable initializations. This will give you some idea of what is meant when we say that numpy types can require greater care from a programmer than pythons native numeric types."
   ]
  },
  {
   "cell_type": "code",
   "execution_count": null,
   "metadata": {
    "collapsed": true
   },
   "outputs": [],
   "source": [
    "# Bonus - Why do these assignments not give the output we expect?\n",
    "\n",
    "a = np.int8(256)\n",
    "b = np.uint8(512)\n",
    "c = np.uint8(-1)\n",
    "d = np.float16(0.1234567)\n",
    "e = np.complex64(2147483649 + 2147483649j)\n",
    "\n",
    "print 'Bonus'\n",
    "print 'a={} b={} c={} d={} e={}'.format(a,b,c,d,e)"
   ]
  },
  {
   "cell_type": "markdown",
   "metadata": {},
   "source": [
    "### Math Operators for Numeric Types ###\n",
    "\n",
    "Python supports all the standard mathematical operation such as addition, subtraction, multiplication and etc. for its numeric types. Parentheses can be used to change order of operations and write longer expressions. Python also includes shorthand versions of common variable assignment operations such as adding a number to a variable and assigning the result to the original variable. Take a minute to read through the following code and write down the result you expect each line to produce. Are your predictions correct?"
   ]
  },
  {
   "cell_type": "code",
   "execution_count": 7,
   "metadata": {
    "collapsed": false
   },
   "outputs": [
    {
     "name": "stdout",
     "output_type": "stream",
     "text": [
      "Common Operations\n",
      "a=-2 b=2 c=9 d=-5 e=14 f=0 g=0 h=2 i=4 j=128\n",
      "\n"
     ]
    }
   ],
   "source": [
    "x = 2\n",
    "y = 7\n",
    "\n",
    "# Mathematical Operators\n",
    "#\n",
    "a = -x         #Negation\n",
    "b = +x         #Does Nothing\n",
    "\n",
    "c = x + y      #Addition\n",
    "d = x - y      #Subtraction\n",
    "e = x * y      #Multiplication\n",
    "f = x / y      #Division\n",
    "g = x // y     #Floored Division - drops the remainder\n",
    "h = x % y      #Modulo - returns the remainder\n",
    "i = (x + y)/x  #Parentheses - Change order of operations\n",
    "j = x**y       #Exponentiation - X to the power of Y\n",
    "\n",
    "print 'Common Operations'\n",
    "print 'a={} b={} c={} d={} e={} f={} g={} h={} i={} j={}\\n'.format(a,b,c,d,e,f,g,h,i,j)"
   ]
  },
  {
   "cell_type": "markdown",
   "metadata": {},
   "source": [
    "#### Shorthand Operators ####\n",
    "Shorthand operators are convenience functions that give an abreviated syntax for the common task of performing some operation on a variable and then setting the value of that variable to the result of the operation."
   ]
  },
  {
   "cell_type": "code",
   "execution_count": 8,
   "metadata": {
    "collapsed": false
   },
   "outputs": [
    {
     "name": "stdout",
     "output_type": "stream",
     "text": [
      "Shorthand Operations\n",
      "x=3 y=1\n"
     ]
    }
   ],
   "source": [
    "# Shorthand Operators\n",
    "#\n",
    "# shorthand assignment operators are available in Python for all the two-place operators ( +=, -=, *=, /=, **=, //=, %=)\n",
    "# x += 1 is equivalent to x = x + 1\n",
    "\n",
    "x += 1\n",
    "y %= 2\n",
    "\n",
    "print 'Shorthand Operations'\n",
    "print 'x={} y={}'.format(x,y)"
   ]
  },
  {
   "cell_type": "markdown",
   "metadata": {},
   "source": [
    "### Same and Mixed Type Arithmetic ###\n",
    "\n",
    "#### Same Type ####\n",
    "If you wrote down the expected answers for the previous code you'll notice that in python2.7 2 / 7 = 0 instead of 2/7. This is because both x and y are integers. By default any operation performed between two numbers of the same type will return an answer of the same type. Floats return floats, longs return longs and as we saw integers return integers. When dividing integers Python will round down to the nearest whole number, which for 2 / 7 is zero. *Note the default behavior of this has been changed in python 3 but you should still be aware of it until python 2 is fully phased out.*\n",
    "\n",
    "#### Mixed Type ####\n",
    "There are also rules for what is returned when performing operations between different types.   \n",
    "\n",
    "The priority of each type from lowest to highest is\n",
    "\n",
    "**Integer -> Long Integer -> Float -> Complex Number**\n",
    "\n",
    "Any operation between numbers of two different types will return a number with the same type as the highest priority variable in your expression. For instance adding an Integer and a Float will always return a Float."
   ]
  },
  {
   "cell_type": "code",
   "execution_count": 9,
   "metadata": {
    "collapsed": false
   },
   "outputs": [
    {
     "name": "stdout",
     "output_type": "stream",
     "text": [
      "Mixed Type Operations\n",
      "a=<type 'int'> b=<type 'float'> c=<type 'long'> d=<type 'complex'> e=<type 'float'> f=<type 'complex'> g=<type 'complex'>\n",
      "\n"
     ]
    }
   ],
   "source": [
    "# Operations for same and mixed types\n",
    "\n",
    "a = 5 * 2      #int and int -> int\n",
    "b = 5 * 2.0    #int and float -> float\n",
    "c = 5 * 2L     #int and long -> long\n",
    "d = 5 * 2J     #int and complex -> complex\n",
    "\n",
    "e = 5.0 * 2L   #float and long -> float\n",
    "f = 5.0 * 2J   #float and complex -> complex\n",
    "\n",
    "g = 5L * 2J    #long and complex -> complex\n",
    "\n",
    "print 'Mixed Type Operations'\n",
    "print 'a={} b={} c={} d={} e={} f={} g={}\\n'.format( type(a),type(b),type(c),type(d),type(e),type(f),type(g) )"
   ]
  },
  {
   "cell_type": "markdown",
   "metadata": {},
   "source": [
    "#### Numpy Mixed Type ####\n",
    "When mixing numpy and standard types python will return the numpy version of the highest priority type\n",
    "AND try to preserve maximum precision so a uint8 x float returns float64 or a float32 x int returns float64. "
   ]
  },
  {
   "cell_type": "code",
   "execution_count": 10,
   "metadata": {
    "collapsed": false
   },
   "outputs": [
    {
     "name": "stdout",
     "output_type": "stream",
     "text": [
      "Mixing Numpy and Default Types\n",
      "h=<type 'numpy.float64'> i=<type 'numpy.float64'>\n"
     ]
    }
   ],
   "source": [
    "# Numpy Mixed Type operations\n",
    "h = np.uint8(4) * 4.0  # numpy uint8 and float -> numpy float64\n",
    "i = np.float32(4) * 4  # numpy float32 and int -> numpy float64\n",
    "\n",
    "print 'Mixing Numpy and Default Types'\n",
    "print 'h={} i={}'.format( type(h), type(i))"
   ]
  },
  {
   "cell_type": "markdown",
   "metadata": {},
   "source": [
    "### Comparison Operations ###\n",
    "\n",
    "Python also supports all standard comparison operators for its numeric types. You can perform comparisons between numbers of different types and the comparisons will give you results based on their values. For each comparison you will get back a Boolean value (True, False).  \n",
    "\n",
    "### Booleans ###\n",
    "\n",
    "Booleans in python are implemented as a subset of the integer type. Internally they are 1 for True and 0 for False. This means you can perform arithmetic using boolean values. For instance you could take the sum of a list of booleans to get the count of True values but generally speaking doing too much math with booleans is bad practice."
   ]
  },
  {
   "cell_type": "code",
   "execution_count": 11,
   "metadata": {
    "collapsed": false
   },
   "outputs": [
    {
     "name": "stdout",
     "output_type": "stream",
     "text": [
      "All Numeric Comparison Operations\n",
      "a=True b=True c=False d=False e=False f=True\n"
     ]
    }
   ],
   "source": [
    "# Comparison Operators\n",
    "# \n",
    "# Return a Boolean Value of True or False (0 or 1) if the comparison is true\n",
    "\n",
    "x = 8\n",
    "y = 22\n",
    "\n",
    "a = x < y   #Less than\n",
    "b = x <= y  #Less than or equal to\n",
    "c = x > y   #Greater than\n",
    "d = x >= y  #Greater than or equal to\n",
    "e = x == y  #Equal to\n",
    "f = x != y  #Not Equal to\n",
    "\n",
    "print 'All Numeric Comparison Operations'\n",
    "print 'a={} b={} c={} d={} e={} f={}'.format( a,b,c,d,e,f )"
   ]
  },
  {
   "cell_type": "markdown",
   "metadata": {},
   "source": [
    "### Strings and Unicode Strings ###\n",
    "\n",
    "There are two string types in Python. The default string class 'str' and unicode strings which contain a broader range of characters. String types are used to store written text and characters of any sort. There is no character type in Python so even single letters are strings of length one. Any sort of data including numbers can be interpreted as a string. Strings are immutable in Python which means you cannot change them once they are declared. Strings are also objects in Python, not primitive types, which means the strings themselves can have functions and variables attached to them. Almost everything in Python is secretly an object.\n",
    "\n",
    "*Note: In python 3 the default string type was changed to unicode strings.*\n",
    "\n",
    "#### Encodings ####\n",
    "\n",
    "Encodings are the mappings between binary representations of characters on a computer and the letter displayed on screen. By default Python strings use the ASCII encoding which contains common english characters. But there are many other encodings available for the string type and it is possible to change the default encoding if for instance you need to analyze foreign language text. A common error is performing equality comparisons between strings with different encodings. Even if they contain the same display characters this may return false."
   ]
  },
  {
   "cell_type": "code",
   "execution_count": 12,
   "metadata": {
    "collapsed": false
   },
   "outputs": [
    {
     "name": "stdout",
     "output_type": "stream",
     "text": [
      "Different Ways of Declaring Strings\n",
      "a=<type 'str'> b=<type 'str'> c=<type 'str'> d=<type 'unicode'> e=<type 'unicode'> f=<type 'unicode'>\n"
     ]
    }
   ],
   "source": [
    "# Declaring String\n",
    "\n",
    "a = \"some text\"   # anything wrapped in quotes is a string\n",
    "b = 'some text'   # anything wrapped in single quotes is also a string\n",
    "c = '234453'      # including numbers\n",
    "\n",
    "# Declaring Unicode Strings\n",
    "\n",
    "d = u\"some text\"\n",
    "e = u'some text'\n",
    "f = u'234453'\n",
    "\n",
    "print 'Different Ways of Declaring Strings'\n",
    "print 'a={} b={} c={} d={} e={} f={}'.format( type(a),type(b),type(c),type(d),type(e),type(f) )\n",
    "\n",
    "# Bonus - Uncomment the following code, why does this return an error?\n",
    "# a = 'abcdefg'\n",
    "# a[0] = 'b'"
   ]
  },
  {
   "cell_type": "markdown",
   "metadata": {},
   "source": [
    "## Data Structures ##\n",
    "\n",
    "Pythons data-structures have the same sort of style we saw in their built in types. Python offers a few main data-structures which are flexible, powerful and accept heterogenous types. The \"list\" structure can be a list of any mix of types or other data-structures you want to put in it. Numpy data-structures are brought in when the flexibility is less valuable than fast computation and the added utility of matrix operations.    \n",
    "\n",
    "**Mutable** - An object or data structure is immutable when its contents cannot be modified after it is created, a mutable object can be modified at any time.\n",
    "\n",
    "*ex: strings and tuples are immutable, lists and primitive types are mutable*\n",
    "\n",
    "**Hashable** - An object or data structure is hashable when it can be converted (hashed) into an integer key that is uniquely based on the contents of the object and that key will not change over the objects lifetime. You can take a hash of any object but only immutable objects have stable keys and are called hashable.\n",
    "\n",
    "*ex: tuples are hashable and later we will see they can be used as keys in dicts, lists cannot*\n",
    "\n",
    "**Container** - Container in python refers to any data structure which 'contains' other items, all container structures support iteration (looping over the contained items) and membership testing (is item1 in container2?)\n",
    "\n",
    "*ex: dictionary, list, set, struct... pretty much everything other than types is a container*\n",
    "\n",
    "**Sequence** - Sequence in python refers to any data structure which is both a container and preserves the order of items it contains. Sequences implement all the methods of containers but also support indexing and slicing.\n",
    "\n",
    "*ex: list, string, tuple*\n",
    "\n",
    "**Generators** - A generator is any python data structure which supports a \"lazy\" iteration method. Rather than looping through all items and storing the results in memory, a structure can return a generator object which does not store anything in memory and just pulls out one item at a time when called."
   ]
  },
  {
   "cell_type": "markdown",
   "metadata": {},
   "source": [
    "### Built-In Data Structures ###\n",
    "\n",
    "#### Lists ####\n",
    "Lists are a simple ordered sequence of anything you want to put in them. Lists can contain either primitive types such as integers or floats or they can contain other container types such as tuples, strings, other lists and etc. Lists are containers, sequences and mutable.  "
   ]
  },
  {
   "cell_type": "code",
   "execution_count": 13,
   "metadata": {
    "collapsed": false
   },
   "outputs": [
    {
     "name": "stdout",
     "output_type": "stream",
     "text": [
      "1\n",
      "abc\n",
      "[1, 2, 3]\n",
      "2\n"
     ]
    }
   ],
   "source": [
    "# List structure\n",
    "# Declare lists using any comma seperated sequence between square brackets\n",
    "\n",
    "a = []                              # empty list\n",
    "b = [1,2,3,4,5]                     # list of integers\n",
    "c = ['abc', 1, 2, 3, 4.1]           # mixed type list\n",
    "d = [ [1,2,3], [4,5,6], [7,8,9] ]   # list of lists\n",
    "\n",
    "# Access items using integer index between square brackets\n",
    "print b[0]\n",
    "print c[0]\n",
    "print d[0]\n",
    "\n",
    "# Nested lists can be indexed twice\n",
    "print d[0][1]\n",
    "\n",
    "# Bonus - in python lists are often created using a functional tool called a list-comprehension\n",
    "# what do you expect list e to contain?\n",
    "e = [x for x in range(100)]"
   ]
  },
  {
   "cell_type": "markdown",
   "metadata": {},
   "source": [
    "#### Tuples ####\n",
    "Tuples are immutable lists. They are exactly the same in every way except that their values cannot be changed. Tuples are often used for returning values from functions and other places where you do not want your data modified."
   ]
  },
  {
   "cell_type": "code",
   "execution_count": 14,
   "metadata": {
    "collapsed": false
   },
   "outputs": [
    {
     "name": "stdout",
     "output_type": "stream",
     "text": [
      "1\n",
      "abc\n",
      "(1, 2, 3)\n",
      "2\n"
     ]
    }
   ],
   "source": [
    "# Tuple structure\n",
    "# Declare tuples using any comma seperated sequence between parentheses \n",
    "\n",
    "a = ()                              # empty tuple\n",
    "b = (1,2,3,4,5)                     # tuple of integers\n",
    "c = ('abc', 1, 2, 3, 4.1)           # mixed type tuple\n",
    "d = ( (1,2,3), (4,5,6), (7,8,9) )   # tuple of tuples\n",
    "\n",
    "# Access items using integer index between square brackets\n",
    "print b[0]\n",
    "print c[0]\n",
    "print d[0]\n",
    "\n",
    "# Nested tuples can be indexed twice\n",
    "print d[0][1]\n",
    "\n",
    "# Bonus - while you might expect the following syntax to create a tuple it is actually\n",
    "# reserved for creating generator expressions\n",
    "e = (x for x in range(100))\n",
    "f = tuple( (x for x in range(100) ))  # typecast to a tuple if you need to generate tuples on the fly"
   ]
  },
  {
   "cell_type": "markdown",
   "metadata": {},
   "source": [
    "#### Sets ####\n",
    "\n",
    "Sets are unordered collections which do not allow duplicate values. They may contain multiple types and other collections. Sets are rarely used as for basic data storage but are commonly used for eliminating duplicates and set-theoretic operations between lists such as union, intersection, difference etc. "
   ]
  },
  {
   "cell_type": "code",
   "execution_count": 15,
   "metadata": {
    "collapsed": false
   },
   "outputs": [
    {
     "name": "stdout",
     "output_type": "stream",
     "text": [
      "List and Tuple\n",
      "a=[1, 1, 2, 2, 3, 3, 4, 4] b=(3, 3, 4, 4, 5, 5, 6, 6)\n",
      "\n",
      "List and Tuple cast to Sets\n",
      "c=set([1, 2, 3, 4]) d=set([3, 4, 5, 6])\n",
      "\n",
      "Union(c,d): set([1, 2, 3, 4, 5, 6])\n",
      "Intersection(c,d): set([3, 4])\n",
      "Difference(c,d): set([1, 2, 5, 6])\n"
     ]
    }
   ],
   "source": [
    "# Set structure\n",
    "# Sets are declared by type-casting any sequence type (list, tuple, etc.) using the set() function\n",
    "\n",
    "a = [1,1,2,2,3,3,4,4]   # list\n",
    "b = (3,3,4,4,5,5,6,6)   # tuple\n",
    "\n",
    "c = set(a)              # set from list\n",
    "d = set(b)              # set from tuple\n",
    "\n",
    "print 'List and Tuple'\n",
    "print 'a={} b={}\\n'.format(a,b)\n",
    "print 'List and Tuple cast to Sets'\n",
    "print 'c={} d={}\\n'.format(c,d)\n",
    "\n",
    "# Sets use pythons bitwise operators so for instance the intersection of two sets is written\n",
    "# a & b which is the members which are present in both a AND b\n",
    "\n",
    "print 'Union(c,d): {}'.format(c | d)\n",
    "print 'Intersection(c,d): {}'.format(c & d)\n",
    "print 'Difference(c,d): {}'.format(c ^ d)"
   ]
  },
  {
   "cell_type": "markdown",
   "metadata": {},
   "source": [
    "#### Dictionaries ####\n",
    "\n",
    "A dictionary is an unordered set of key-value items. In other languages these sorts of objects are called associative arrays. To retrieve an item from a dictionary, rather than giving the location where it is located you retrieve it by key. Any hashable variable or object can be a key, and anything can be a value. A common use for dictionaries is implementing directory systems where you look up information such as name, phone-number and etc. using an id number as the key.  \n",
    "\n",
    "*note: Item lookups for dictionaries are implemented using hash tables and are close to a constant time lookup, O(1), under most conditions*  "
   ]
  },
  {
   "cell_type": "code",
   "execution_count": 16,
   "metadata": {
    "collapsed": false
   },
   "outputs": [
    {
     "name": "stdout",
     "output_type": "stream",
     "text": [
      "123789133\n",
      "300j\n",
      "456\n"
     ]
    }
   ],
   "source": [
    "# Dictionary structure (dict)\n",
    "# Declare dictionaries using key:value pairs seperated by commas between curly brackets\n",
    "\n",
    "a = {}                                                          # empty dict\n",
    "b = {'john':123789133, 'alice':4562134343 }                     # dict of integers with string names as keys\n",
    "c = {'john':'abc', 1:0.56, 4.56:300j }                          # dict with mixed-type keys and values\n",
    "d = { ('john','mary'):123, ('fred','susan'):456 }               # dict using hashable tuples as keys\n",
    "\n",
    "# Access items using key value between square brackets\n",
    "print b['john']\n",
    "print c[4.56]\n",
    "print d[('fred','susan')]\n",
    "\n",
    "# Bonus - even experienced python programmers don't always know that you can do dictionary-comprehensions\n",
    "# what does dict e contain?  Hint: ord() returns the ascii code of a character\n",
    "import string\n",
    "e = { ord(x):x for x in string.ascii_letters }"
   ]
  },
  {
   "cell_type": "markdown",
   "metadata": {},
   "source": [
    "### Indexing and Slicing ###\n",
    "\n",
    "Recall that many of the data structures we just discussed are sequence types. A sequence is an ordered list of some item and because the order of items is preserved we can refer to items using their location (index). Python provides two standard ways of working with indexes that are the same across all sequence types: indexing and slicing. Sequence types include lists and tuples but also strings and non-standard types such as numpy and pandas data structures. \n",
    "\n",
    "#### Indexing ####\n",
    "\n",
    "There are two types of indexing in python, standard and reverse indexing. For standard indexing the first item in a sequence is labeled with the integer 0, the second is 1 and so on. Reverse indexing starts at the end of the sequence. Unlike some other languages there is no -0 in Python so reverse indexing starts at -1, goes to -2 and so on. Square brackets are used for all indexing operations."
   ]
  },
  {
   "cell_type": "code",
   "execution_count": 17,
   "metadata": {
    "collapsed": false
   },
   "outputs": [
    {
     "name": "stdout",
     "output_type": "stream",
     "text": [
      "Standard and Reverse Indexing\n",
      "index1 = t index1r = a\n"
     ]
    }
   ],
   "source": [
    "# String Indexing\n",
    "my_string = \"the devil went down to georgia\"\n",
    "\n",
    "# Normal Indexing - specify a position using an integer index starting at zero\n",
    "# begins at the leftmost position on the string and counts up to the right\n",
    "\n",
    "# \"t h e   d e v i l..\"\n",
    "# \"0 1 2 3 4 5 6 7 8..\"\n",
    "\n",
    "a = my_string[0]   \n",
    "\n",
    "# Reverse Indexing - specify a character using a negative integer starting at -1\n",
    "# begins at the rightmost position on the string and counts down to the left\n",
    "\n",
    "# \"...t o   g e o r g i a\"\n",
    "# \"..10 9 8 7 6 5 4 3 2 1   (using negative integers) \n",
    "\n",
    "b = my_string[-1]   # reverse indexing - \n",
    "\n",
    "print 'Standard and Reverse Indexing'\n",
    "print 'index1 = {} index1r = {}'.format( a,b )"
   ]
  },
  {
   "cell_type": "markdown",
   "metadata": {},
   "source": [
    "#### Slicing ####\n",
    "\n",
    "Slices are one of the nice features of Python that you will not find in every other language. Slices are a way of pulling out subsets of any sequence object. For instance if you wanted to take the first 10 letters of a string you would use a slice. What if we need to reduce a large dataset and want to pull out every 10th item? Easily accomplished with slices. The syntax on slices is fairly intuitive once you understand indexing and is very powerful. "
   ]
  },
  {
   "cell_type": "code",
   "execution_count": 18,
   "metadata": {
    "collapsed": false
   },
   "outputs": [
    {
     "name": "stdout",
     "output_type": "stream",
     "text": [
      "a= abcde b= abcde c= vwxy d= vwxyz e= acegi\n",
      "zyxwvutsrqponmlkjihgfedcba\n"
     ]
    }
   ],
   "source": [
    "# Slices\n",
    "\n",
    "my_string = \"abcdefghijklmnopqrstuvwxyz\"\n",
    "\n",
    "# Substring from position 0 up to but not including position 5 \n",
    "a = my_string[0:5]\n",
    "b = my_string[:5]    # defaults to 0 if we put nothing so these statements are equivalent\n",
    "\n",
    "# Substring from position -5 up to but not including position -1\n",
    "c = my_string[-5:-1]\n",
    "d = my_string[-5:]   # defaults to end of string if we put nothing so these are NOT equivalent\n",
    "\n",
    "# Step Option\n",
    "# can include a step argument that provides the size of 'step' to make\n",
    "# between start and end points\n",
    "\n",
    "e = my_string[0:10:2]  # steps of size 2 starting at 0 up to 10\n",
    "\n",
    "print \"a= {} b= {} c= {} d= {} e= {}\".format(a,b,c,d,e)\n",
    "\n",
    "\n",
    "#Bonus\n",
    "# why does this print a reversed string?\n",
    "print my_string[::-1]"
   ]
  },
  {
   "cell_type": "markdown",
   "metadata": {},
   "source": [
    "#### Assigning to Slices ####\n",
    "\n",
    "You will sometimes find it useful to set values to the slice of a sequence. Be aware this only works for mutable sequences so you cannot do this for strings or tuples. The only thing you can assign to the slice of a sequence is a sequence of equal length to the slice. "
   ]
  },
  {
   "cell_type": "code",
   "execution_count": 19,
   "metadata": {
    "collapsed": false
   },
   "outputs": [
    {
     "name": "stdout",
     "output_type": "stream",
     "text": [
      "[0, 1, 2, 3, 4, 5, 6, 7, 8, 9]\n",
      "[0, 0, 0, 0, 0, 5, 6, 7, 8, 9]\n",
      "[-10, 0, -4, 0, -1, 5, -4, 7, -1, 9]\n"
     ]
    }
   ],
   "source": [
    "# Slice Assignment\n",
    "import random\n",
    "\n",
    "my_list = [0,1,2,3,4,5,6,7,8,9]\n",
    "print my_list\n",
    "\n",
    "# Set the first half of the list equal to 0\n",
    "my_list[:5] = [0,0,0,0,0]\n",
    "print my_list\n",
    "\n",
    "# Set every other number to a random value between -1 and -10\n",
    "my_list[::2] = [ -random.randint(0,10) for x in range(5)]\n",
    "print my_list"
   ]
  },
  {
   "cell_type": "markdown",
   "metadata": {},
   "source": [
    "## Conditionals ##\n",
    "\n",
    "### If, Elif and Else ###\n",
    "\n",
    "Conditionals are flow control statements that determine whether a block of code is executed based on some variable or state of the program. Python does not have a switch statement so all branching and conditionals are done with some combination of three conditional statements. If, Elif and Else.\n",
    "\n",
    "**if** - executes a block of code when the attached statement evaluates to True\n",
    "\n",
    "**elif** - must follow an if statement, executes a block of code when the if statement evaluates to false and its own statement evaluates as true (is short for else if)\n",
    "\n",
    "**else** - executes a block of code when all other if and elif statments have returned false\n",
    "\n",
    "The most common mistake made with conditionals in Python is confusing if and elif. When you want to guarantee that only one block of code is executed by a conditional block you should always use the if, elif, elif, else pattern. "
   ]
  },
  {
   "cell_type": "code",
   "execution_count": 20,
   "metadata": {
    "collapsed": false
   },
   "outputs": [
    {
     "name": "stdout",
     "output_type": "stream",
     "text": [
      "Repeated If Block\n",
      "x > 2\n",
      "x > 3\n",
      "x > 4\n",
      "\n",
      "If, Elif, Else Block\n",
      "y > 2\n"
     ]
    }
   ],
   "source": [
    "# Conditionals - common patterns\n",
    "\n",
    "# Execute one or more blocks based on some condition\n",
    "print 'Repeated If Block'\n",
    "x = 5\n",
    "if x > 2:\n",
    "    print 'x > 2'\n",
    "if x > 3:\n",
    "    print 'x > 3'\n",
    "if x > 4:\n",
    "    print 'x > 4'\n",
    "\n",
    "# Execute only one block based on some condition\n",
    "# note that while all statements are true only the first valid one is executed\n",
    "print '\\nIf, Elif, Else Block'\n",
    "y = 5\n",
    "if y > 2:\n",
    "    print 'y > 2'\n",
    "elif y > 3:\n",
    "    print 'y > 3'\n",
    "elif y > 4:\n",
    "    print 'y > 4'\n",
    "else:\n",
    "    print 'y <= 2'"
   ]
  },
  {
   "cell_type": "markdown",
   "metadata": {},
   "source": [
    "## Loops & Itteration ##\n",
    "\n",
    "### While Loops ###\n",
    "\n",
    "While loops in Python will continue running a block of code as long as an attached condition evaluates to true. They are not used often in data analysis since a for loop is usually preferable but you may see them for consuming external data streams, game loops or waiting for user input."
   ]
  },
  {
   "cell_type": "code",
   "execution_count": 21,
   "metadata": {
    "collapsed": false
   },
   "outputs": [
    {
     "name": "stdout",
     "output_type": "stream",
     "text": [
      "Sum = 10\n",
      "Sum = 10 Avg = 2.0\n"
     ]
    }
   ],
   "source": [
    "# Sum all numbers from 0-5 using a while loop\n",
    "counter = 0\n",
    "c_sum = 0\n",
    "while counter < 5:\n",
    "    c_sum += counter\n",
    "    counter += 1\n",
    "    \n",
    "print 'Sum = {}'.format(c_sum)\n",
    "\n",
    "# Bonus - an obscure but useful bit of python syntax, you can use the else keyword with any loop construct to\n",
    "# perform a final action after the loop finishes\n",
    "counter = 0\n",
    "c_sum = 0\n",
    "while counter < 5:\n",
    "    c_sum += counter\n",
    "    counter += 1\n",
    "else:\n",
    "    c_avg = float(c_sum) / float(counter)\n",
    "        \n",
    "print 'Sum = {} Avg = {}'.format(c_sum, c_avg)"
   ]
  },
  {
   "cell_type": "markdown",
   "metadata": {},
   "source": [
    "### For Loops ###\n",
    "\n",
    "Python has a very powerful and flexible synax for performing for loops. Rather than using counters and indices as in C++ or Java, Python for loops retrieve items sequentially from any object with defined iter() or next() methods until the object is exhausted. This includes all the container types we've talked about so far and even user defined types."
   ]
  },
  {
   "cell_type": "code",
   "execution_count": 22,
   "metadata": {
    "collapsed": false
   },
   "outputs": [
    {
     "name": "stdout",
     "output_type": "stream",
     "text": [
      "a\n",
      "b\n",
      "c\n",
      "1\n",
      "2\n",
      "3\n"
     ]
    }
   ],
   "source": [
    "# A simple for loop over a list\n",
    "container = ['a', 'b', 'c', 1, 2, 3]\n",
    "\n",
    "for item in container:\n",
    "    print item"
   ]
  },
  {
   "cell_type": "markdown",
   "metadata": {},
   "source": [
    "#### Common For Loop Patterns ####\n",
    "\n",
    "Easy right? And for many problems that is as much as you'll need but here are a number of common patterns for using loops in python that will make some problems much easier. "
   ]
  },
  {
   "cell_type": "code",
   "execution_count": 23,
   "metadata": {
    "collapsed": false
   },
   "outputs": [
    {
     "name": "stdout",
     "output_type": "stream",
     "text": [
      "range loop\n",
      "0\n",
      "1\n",
      "2\n",
      "3\n",
      "4\n",
      "5\n",
      "6\n",
      "7\n",
      "8\n",
      "9\n",
      "\n",
      " xrange loop (generator)\n",
      "0\n",
      "1\n",
      "2\n",
      "3\n",
      "4\n",
      "5\n",
      "6\n",
      "7\n",
      "8\n",
      "9\n",
      "\n",
      " loop with unpacking\n",
      "a b c\n",
      "d e f\n",
      "\n",
      " enumerate loop\n",
      "0 a\n",
      "1 b\n",
      "2 c\n",
      "3 d\n",
      "\n",
      " dictionary keys loop\n",
      "key=a\n",
      "key=c\n",
      "key=b\n",
      "\n",
      " dictionary key and values loop\n",
      "key=a value=1\n",
      "key=c value=3\n",
      "key=b value=2\n",
      "\n",
      " dictionary key and values loop (generator)\n",
      "key=a value=1\n",
      "key=c value=3\n",
      "key=b value=2\n"
     ]
    }
   ],
   "source": [
    "# For-Range Loops\n",
    "# range() is a python function that returns x number counting from zero\n",
    "# using a for loop over the result of a range function gives you a loop that runs a fixed number of times\n",
    "print 'range loop'\n",
    "for x in range(10):\n",
    "    print x\n",
    "    \n",
    "# For-XRange Loops\n",
    "# xrange() is equivalent to range() but instead of a list returns a generator\n",
    "# you should always use xrange unless you need the whole list pre-generated for some reason\n",
    "print '\\n xrange loop (generator)'\n",
    "for x in xrange(10):\n",
    "    print x\n",
    "    \n",
    "# Multi-Item Loops\n",
    "# use unpacking syntax to pull out multiple values from an object, for instance a list of tuples\n",
    "print '\\n loop with unpacking'\n",
    "nested = [('a','b','c'),('d','e','f')]\n",
    "for x,y,z in nested:\n",
    "    print '{} {} {}'.format(x,y,z)\n",
    "    \n",
    "# Enumerate Loops\n",
    "# enumerate returns an enumerate object which is a fancy generator that returns a tuple of (item index, item)\n",
    "# using tuple unpacking we can easily retrieve both to use in a loop, use the enumerate pattern whenever you\n",
    "# need both the item and its index\n",
    "print '\\n enumerate loop'\n",
    "letters = ['a','b','c','d']\n",
    "for index, item in enumerate(letters):\n",
    "    print '{} {}'.format(index, item)\n",
    "    \n",
    "# Dictionary Loops\n",
    "# python dictionaries implement an iter() method that returns keys so you can write loops like this\n",
    "# note - the builtin iter() method is faster than calling dictionary.keys() so use the built-in\n",
    "print '\\n dictionary keys loop'\n",
    "dictionary = {'a':1, 'b':2, 'c':3}\n",
    "for x in dictionary:\n",
    "    print 'key={}'.format(x)\n",
    "    \n",
    "# Dictionary items() loop\n",
    "# items() returns a list of key value pairs for a dictionary you can loop over\n",
    "print '\\n dictionary key and values loop'\n",
    "for key, val in dictionary.items():\n",
    "    print 'key={} value={}'.format(key,val)\n",
    "    \n",
    "# Dictionary iteritems() loop\n",
    "# iteritems() returns a generator that produces key value pairs for a dictionary\n",
    "# use iteritems() unless there is a reason to pre-generate the list\n",
    "print '\\n dictionary key and values loop (generator)'\n",
    "for key, val in dictionary.iteritems():\n",
    "    print 'key={} value={}'.format(key,val)    \n"
   ]
  },
  {
   "cell_type": "markdown",
   "metadata": {},
   "source": [
    "### Break, Continue and Pass ###\n",
    "Python also has several statements which can alter the normal flow of loops. While these can be useful they are easy to use badly. Think three times whether you could eliminate a break or continue statement by rewriting your loop before you use one. \n",
    "\n",
    "**break** - immediately terminates the innermost loop\n",
    "\n",
    "**continue** - immediately stops the current itteration of the loop and begins the next one\n",
    "\n",
    "**pass** - placeholder for when a statement is required syntactically, does nothing"
   ]
  },
  {
   "cell_type": "code",
   "execution_count": 24,
   "metadata": {
    "collapsed": false
   },
   "outputs": [
    {
     "name": "stdout",
     "output_type": "stream",
     "text": [
      "Loop with break\n",
      "0\n",
      "\n",
      "Loop with continue\n",
      "\n",
      "Loop with pass\n"
     ]
    }
   ],
   "source": [
    "# For loop with break statement\n",
    "# what should the output of this be?\n",
    "print 'Loop with break'\n",
    "for x in range(10):\n",
    "    print x\n",
    "    break\n",
    "    \n",
    "# For loop with continue statement\n",
    "# what should the output of this be?\n",
    "print '\\nLoop with continue'\n",
    "for x in range(10):\n",
    "    continue\n",
    "    print x\n",
    "    \n",
    "# For loop with pass\n",
    "print '\\nLoop with pass'\n",
    "for x in range(10):\n",
    "    pass"
   ]
  },
  {
   "cell_type": "markdown",
   "metadata": {},
   "source": [
    "## Functions ##\n",
    "\n",
    "A function is a programming abstraction that defines a block of code to be executed when the function is called and then returns control back to the calling statement. Functions can take any sort of object or variable as arguments and can return any type of object. Functions should always be modular and avoid <i>side effects</i> (changes to the state of the program outside of the function such as modifying global variables). \n",
    "\n",
    "In python functions can be written using either the def keyword to create a named function, or the lambda keyword to create an anonymous (unnamed) function. Lambdas are good for expressing simple mathematical relationships and for use with other functional tools but for anything more hefty than that use named functions."
   ]
  },
  {
   "cell_type": "code",
   "execution_count": 25,
   "metadata": {
    "collapsed": false
   },
   "outputs": [
    {
     "name": "stdout",
     "output_type": "stream",
     "text": [
      "Named Function Call\n",
      "10\n",
      "\n",
      "Lambda Function Call\n",
      "5\n",
      "\n",
      "Get Function Docstring\n",
      "Returns the sum of two inputs with each scaled by n\n"
     ]
    }
   ],
   "source": [
    "# Named Function\n",
    "# def keyword followed by name(arguments) and return return_var\n",
    "def scalarAdd(x,y,n):\n",
    "    '''Returns the sum of two inputs with each scaled by n'''\n",
    "    return (x*n) + (y*n)\n",
    "\n",
    "print 'Named Function Call'\n",
    "print scalarAdd(4,1,2)\n",
    "\n",
    "# Lambda Function\n",
    "# lambda arguments: return_var\n",
    "s = lambda x,y,n: (x*n) + (y*n) \n",
    " \n",
    "print '\\nLambda Function Call'\n",
    "print s(2,3,1)\n",
    "\n",
    "# Bonus - python functions are also objects and you can access \n",
    "# their special fields such as the docstring we defined for scalarAdd\n",
    "print '\\nGet Function Docstring'\n",
    "print scalarAdd.__doc__"
   ]
  },
  {
   "cell_type": "markdown",
   "metadata": {},
   "source": [
    "### Function Scope ###\n",
    "A scope is a domain of bindings between variable names and their associated objects. Python functions have their own scope which is checked first when the python interpreter tries to find an object. Variables declared within functions are considered local and cannot be referenced outside of the function because they are not part of the outside scope. Inside of the function you can use both variables that are part of the local scope and any <i>enclosing</i> scopes. For instance if the function is nested in another function or class it can call variables from that function/class as well as anything from the global scope. \n",
    "\n",
    "#### Scope Resolution Order ####\n",
    "It is possible for variables accessible from the same scope to use identical names. When this is the case which variable actually gets used? What do you think will happen when we run the code below?"
   ]
  },
  {
   "cell_type": "code",
   "execution_count": 26,
   "metadata": {
    "collapsed": false
   },
   "outputs": [
    {
     "name": "stdout",
     "output_type": "stream",
     "text": [
      "a function local variable\n"
     ]
    }
   ],
   "source": [
    "x = 'outside variable'\n",
    "\n",
    "def a():\n",
    "    x = 'a function local variable'\n",
    "    print x\n",
    "   \n",
    "# call function a\n",
    "a()"
   ]
  },
  {
   "cell_type": "markdown",
   "metadata": {},
   "source": [
    "### LEGB Rule ###\n",
    "\n",
    "**Local** - local variables such as variables declared inside of functions or classes are resolved first\n",
    "\n",
    "**Enclosing** - local variables of enclosing functions are called next in order from inner to outermost\n",
    "\n",
    "**Global** - names assigned with the global keyword are resolved next\n",
    "\n",
    "**Built-In** - builtin python function and variable names are resolved last\n",
    "\n",
    "*Note: Because built-ins are resolved last any function you make with the same name as a built-in function will be called instead. It is even possible to do this for things you would not expect like the + and - operator. This is usually a bad idea and it can go very badly if you do it accidently. Never name your functions the same thing as python built ins, it can break all other code in your program that relies on that built in function. A common error is to define a \"sum\" function.*"
   ]
  },
  {
   "cell_type": "markdown",
   "metadata": {},
   "source": [
    "## Classes and Objects ##\n",
    "Classes are a type of structure that allows you to define your own member variables and functions and then instantiate multiple instances of that class (objects). Effectively you can create your own custom types along with methods (functions attached to a class) to act on them and then use them wherever they are needed. Object oriented programming is a very powerful technique and I will not go into too much depth here. Use classes when it makes sense to group several different datastructures and functions as a logical unit. For instance we might want to create a participant class to store data from an experiment.\n",
    "\n",
    "### Python Class Syntax ###\n",
    "The syntax for declaring classes in Python is not very straightforward compared to other languages. By default every variable or method declared inside the class definition does not belong to the object, instead it belongs to the class. This means the variable is shared by every instance of a class. Usually we do not want this but in Python we must use some trickery to make the variables and methods owned by an instance of the class. We do this by passing the keyword argument self, which identifies the current instance, to all class methods.\n",
    "\n",
    "*Note: there is no such thing as private or protected class variables in python, an class variable can be changed or reassigned it is up to you as the programmer to avoid doing this when you shouldn't.*"
   ]
  },
  {
   "cell_type": "code",
   "execution_count": 27,
   "metadata": {
    "collapsed": false
   },
   "outputs": [
    {
     "name": "stdout",
     "output_type": "stream",
     "text": [
      "Participant Condition = 55\n",
      "Results = [1, 2, 3, 4]\n",
      "Mean Result = 2\n"
     ]
    }
   ],
   "source": [
    "# class declared using class keyword\n",
    "class Participant:\n",
    "    \n",
    "    # __init__ is a special function that is called when a class is first initialized\n",
    "    # self must be the first argument to __init__ so we know which instance to assign variables to\n",
    "    def __init__(self, participant_id, condition, results):\n",
    "        \n",
    "        # Set the instance variables self.x to the values passed in as function arguments to __init__ \n",
    "        self.participant_id = participant_id\n",
    "        self.condition = condition\n",
    "        self.results = results\n",
    "        \n",
    "    # All additional methods must also have self as an argument to access instance data\n",
    "    def meanResult(self):\n",
    "        return sum(self.results) / len(self.results)\n",
    "    \n",
    "    \n",
    "# Initialize an instance of the Participant class\n",
    "p1 = Participant(participant_id=1, condition=2, results=[1,2,3,4])\n",
    "\n",
    "# Retrieve or set instance/class variables using instance.var_name\n",
    "p1.condition = 55\n",
    "print 'Participant Condition = {}'.format(p1.condition)\n",
    "print 'Results = {}'.format(p1.results)\n",
    "\n",
    "# Call instance methods in the same way\n",
    "r_mean = p1.meanResult()\n",
    "print 'Mean Result = {}'.format(r_mean)    "
   ]
  },
  {
   "cell_type": "markdown",
   "metadata": {},
   "source": [
    "## Input and Output ##\n",
    "\n",
    "### Print ###\n",
    "Python actually has several different methods for print output formatting. They are fairly redundant so for this tutorial I will just be teaching you the most modern one. **.format()** Format is a method of the string type which will take variable arguments and automatically add them to a string to be printed. By now you should have seen me use this syntax a number of times but lets take a look at the full power of this method.  "
   ]
  },
  {
   "cell_type": "code",
   "execution_count": 28,
   "metadata": {
    "collapsed": false
   },
   "outputs": [
    {
     "name": "stdout",
     "output_type": "stream",
     "text": [
      "Simple format 4 5\n",
      "Ordered format 5 5 4\n",
      "Keyword format name=John job=Accountant\n",
      "Dict Format: name=Alice job=Programmer\n"
     ]
    }
   ],
   "source": [
    "# Simple variable output\n",
    "# Variables are inserted at each {} in order\n",
    "print 'Simple format {} {}'.format(4,5)\n",
    "\n",
    "# Variable output with specified order\n",
    "# Specifying a number ex: {1} can change the order in which the variables are printed \n",
    "print 'Ordered format {1} {1} {0}'.format(4,5)\n",
    "\n",
    "# We can also use keyword arguments and specify what to print by keyword\n",
    "print 'Keyword format name={name} job={job}'.format(name='John', job='Accountant')\n",
    "\n",
    "# A useful trick is using **dict which is the syntax for unpacking a dictionary into a list of keyword arguments\n",
    "# and directly passing a dictionary for printing\n",
    "var_dict = {'name':'Alice', 'job':'Programmer'}\n",
    "print 'Dict Format: name={name} job={job}'.format(**var_dict)"
   ]
  },
  {
   "cell_type": "markdown",
   "metadata": {},
   "source": [
    "### Files ###\n",
    "Python has built in syntax to deal with reading and writing files on disk. In practice you will often be using read and write functions from libraries such as Pandas for loading and outputting data but you should know the defaults. File objects in python are essentially treated as itterable collections of \"lines\". Lines are some amount of text data terminated by a newline character. Lets do a simple example."
   ]
  },
  {
   "cell_type": "code",
   "execution_count": 29,
   "metadata": {
    "collapsed": false
   },
   "outputs": [
    {
     "name": "stdout",
     "output_type": "stream",
     "text": [
      "alice\n",
      "\n",
      "bob\n",
      "\n",
      "carol\n",
      "\n",
      "dave\n",
      "\n",
      "elanor\n",
      "\n"
     ]
    }
   ],
   "source": [
    "# Write data\n",
    "data = ['alice','bob','carol','dave','elanor']\n",
    "temp_file = open('test1.txt', 'w')\n",
    "\n",
    "for x in data:\n",
    "    temp_file.write( x + '\\n' )\n",
    "    \n",
    "temp_file.close()\n",
    "\n",
    "# Read data\n",
    "temp_file = open('test1.txt','r')\n",
    "\n",
    "for line in temp_file:\n",
    "    print line\n",
    "    \n",
    "temp_file.close()"
   ]
  },
  {
   "cell_type": "markdown",
   "metadata": {},
   "source": [
    "So what's going on here? As we can see we create a file using the open function with two arguments. The first is the name and filepath, if just the name is given it defaults to using the current directory. The second argument is an optional string that specifies the mode we open the file with.\n",
    "\n",
    "### File Modes ###\n",
    "\n",
    "#### Writing Type ####\n",
    "\n",
    "**r** - Read: the file is opened for reading\n",
    "\n",
    "**w** - Write: the file is opened for writing, overwrites the file if it already exists\n",
    "\n",
    "**a** - Append: the file is opened for writing, does not overwrite and adds new data to the end of the current file\n",
    "\n",
    "**+** - Extended: must follow r, w or a makes the file read/write \n",
    "\n",
    "#### Other ####\n",
    "\n",
    "**b** - Binary: opens the file as a binary blob instead of text\n",
    "\n",
    "**x** - Create: creates the file if it does not exist\n",
    "\n",
    "#### Examples ####\n",
    "\n",
    "**'r+'** -  open in read/write mode\n",
    "\n",
    "**'w+b'** - open as binary in read/write mode, overwrite existing\n",
    "\n",
    "**'a+'**  - read and append mode\n",
    "\n",
    "Now that we have an open file object we perform a few other operations on it. We write string objects to the file or read them and then finally we call close on the file object. Reading and writing is very straightforwards. When reading you should generally just use the built in itteration. When writing just call the write method of the file object with a string argument. Close does a few different things here. It cuts the connection between our file object and the file on disk, it commits any unsaved changes we made to the file and it destroys the file object freeing up any memory it was using. (this can become a problem very fast if you don't close large files)\n",
    "\n",
    "### With ###\n",
    "\n",
    "Python also provides some nice syntactic sugar for dealing with the common process of opening a file, performing some operations on it and then closing it. Rather than write that all out you can create a \"with\" block. With opens some resource such as a file, performs whatever operations on it within the block and then no matter how the block is exited (exception thrown, break, etc.) closes the file. Because of this with is not only prettier but is considered a safer way to handle resources. Use with rather than open... operations.. close, when possible."
   ]
  },
  {
   "cell_type": "code",
   "execution_count": 30,
   "metadata": {
    "collapsed": true
   },
   "outputs": [],
   "source": [
    "data = ['a', 'b', 'c', 'd']\n",
    "\n",
    "with open('test1.txt', 'w') as out:\n",
    "    for x in data:\n",
    "        out.write(x)"
   ]
  }
 ],
 "metadata": {
  "kernelspec": {
   "display_name": "Python 2",
   "language": "python",
   "name": "python2"
  },
  "language_info": {
   "codemirror_mode": {
    "name": "ipython",
    "version": 2
   },
   "file_extension": ".py",
   "mimetype": "text/x-python",
   "name": "python",
   "nbconvert_exporter": "python",
   "pygments_lexer": "ipython2",
   "version": "2.7.6"
  }
 },
 "nbformat": 4,
 "nbformat_minor": 0
}
